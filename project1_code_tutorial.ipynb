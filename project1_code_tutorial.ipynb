{
 "cells": [
  {
   "cell_type": "markdown",
   "metadata": {},
   "source": [
    "This section walks you through the Python code that makes our project happen. It is in great detail hpoing that you can thoroughly understand how we designed our program step by step. Let's wait no more!!"
   ]
  },
  {
   "cell_type": "markdown",
   "metadata": {},
   "source": [
    "First of all, we need to import a few standard Python libraries that will be utilized in the codes later. "
   ]
  },
  {
   "cell_type": "code",
   "execution_count": null,
   "metadata": {},
   "outputs": [],
   "source": [
    "import numpy as np\n",
    "import time\n",
    "import random\n",
    "from IPython.display import clear_output"
   ]
  },
  {
   "cell_type": "markdown",
   "metadata": {},
   "source": [
    "Now, the actual project code begins. The body of the snake is a big component of the game, and it's a good idea to create a special class for it. Therefore, we defined the following class called 'SnakeNode' to represent a block of the snake. (the linked list data structure will be used to connect these separate snake nodes together)"
   ]
  },
  {
   "cell_type": "code",
   "execution_count": null,
   "metadata": {},
   "outputs": [],
   "source": [
    "# Class 1: Linked List Node to represent a snake body block\n",
    "class SnakeNode:\n",
    "    def __init__(self, parent, child, is_head, curr_moving_dir, row_idx, col_idx):\n",
    "        self.parent = parent\n",
    "        self.child = child\n",
    "        self.row_idx = row_idx\n",
    "        self.col_idx = col_idx\n",
    "        # is_head: 1-yes, 2-no\n",
    "        self.is_head = is_head\n",
    "        # dir: 1-up, 2-down, 3-left, 4-right\n",
    "        self.curr_moving_dir = curr_moving_dir"
   ]
  },
  {
   "cell_type": "markdown",
   "metadata": {},
   "source": [
    "This class has several fields. The parent and child fields store the upstream and downstream neighbor nodes of the current node. The row and column index fields store the node's current coordinates in the 2D game map. The is_head field shows whether this node corresponds to the snake head. The last field contains the current movement direction of the snake head (relevant only for the head node).\n",
    "\n",
    "The creation of this class will be tremendously helpful when we manipulate the snake during the game."
   ]
  },
  {
   "cell_type": "markdown",
   "metadata": {},
   "source": [
    "Next, let's create some helper functions related to the SnakeNode class!"
   ]
  },
  {
   "cell_type": "code",
   "execution_count": null,
   "metadata": {},
   "outputs": [],
   "source": [
    "# Helper Function created for dealing with SnakeNode objects\n",
    "def boundary_hit_check(SnakeNode,max_row_idx,max_col_idx):\n",
    "    is_hit_boundary = 0\n",
    "    if SnakeNode.row_idx < 0 or SnakeNode.row_idx > max_row_idx:\n",
    "        is_hit_boundary = 1\n",
    "    elif SnakeNode.col_idx < 0 or SnakeNode.col_idx > max_col_idx:\n",
    "        is_hit_boundary = 1\n",
    "    return is_hit_boundary"
   ]
  },
  {
   "cell_type": "markdown",
   "metadata": {},
   "source": [
    "This first function takes in a SnakeNode object as well as the maximum row and column indices a node can have(determined by the dimension of game map). It checks if this node is outside of the game map or not and returns the result."
   ]
  },
  {
   "cell_type": "code",
   "execution_count": null,
   "metadata": {},
   "outputs": [],
   "source": [
    "# Helper Function created for dealing with SnakeNode objects\n",
    "def head_body_collision_check(HeadNode,BodyNode):\n",
    "    is_collision = 0\n",
    "    if HeadNode.row_idx == BodyNode.row_idx and HeadNode.col_idx == BodyNode.col_idx:\n",
    "        is_collision = 1\n",
    "    return is_collision"
   ]
  },
  {
   "cell_type": "markdown",
   "metadata": {},
   "source": [
    "This second function takes in the current snake head node and another body node, and checks if they are in collision with each other (i.e. have the same coordinates). The reason why this function doesn't more generally check collision between any two nodes is the following: Quite intuitively, a snake body collision can only happen between its head and a body node. It's impossible for two body nodes to collide."
   ]
  },
  {
   "cell_type": "code",
   "execution_count": null,
   "metadata": {},
   "outputs": [],
   "source": [
    "# Helper Function created for dealing with SnakeNode objects\n",
    "def snake_update_one_time_step(HeadNode,TailNode,max_row_idx,max_col_idx,food_row,food_col):\n",
    "    is_game_over = 0\n",
    "    is_food_eaten = 0\n",
    "    old_head_row = HeadNode.row_idx\n",
    "    old_head_col = HeadNode.col_idx\n",
    "    ret_new_head = None\n",
    "    \n",
    "    # Update the position of HeadNode first, this saves time for head-body collision check\n",
    "    # later.\n",
    "    if HeadNode.curr_moving_dir == 1:\n",
    "        HeadNode.row_idx = HeadNode.row_idx - 1\n",
    "    elif HeadNode.curr_moving_dir == 2:\n",
    "        HeadNode.row_idx = HeadNode.row_idx + 1\n",
    "    elif HeadNode.curr_moving_dir == 3:\n",
    "        HeadNode.col_idx = HeadNode.col_idx - 1\n",
    "    else:\n",
    "        HeadNode.col_idx = HeadNode.col_idx + 1\n",
    "        \n",
    "    # Check if the head hits any boundary\n",
    "    is_hit_boundary = boundary_hit_check(HeadNode,max_row_idx,max_col_idx)\n",
    "    if is_hit_boundary == 1:\n",
    "        is_game_over = 1\n",
    "    \n",
    "    # check if the head 'eats' the food\n",
    "    if HeadNode.row_idx == food_row and HeadNode.col_idx == food_col:\n",
    "        HeadNode.is_head = 0\n",
    "        HeadNode.row_idx = old_head_row\n",
    "        HeadNode.col_idx = old_head_col\n",
    "\n",
    "        # set the position of the new head at the food block\n",
    "        new_head_row_idx = food_row\n",
    "        new_head_col_idx = food_col\n",
    "        new_head_moving_dir = HeadNode.curr_moving_dir\n",
    "\n",
    "        # create the new head node\n",
    "        new_HeadNode = SnakeNode(None, HeadNode, 1, new_head_moving_dir, new_head_row_idx, new_head_col_idx)\n",
    "        HeadNode.parent = new_HeadNode\n",
    "        ret_new_head = new_HeadNode\n",
    "        is_food_eaten = 1    \n",
    "    \n",
    "    curr_node = TailNode\n",
    "    while curr_node != None:\n",
    "        if is_game_over == 1 or is_food_eaten == 1:\n",
    "            break\n",
    "        # If the current node is a body node\n",
    "        if curr_node.is_head != 1:\n",
    "            # update the position of the current body node\n",
    "            if curr_node.parent.is_head == 1:\n",
    "                curr_node.row_idx = old_head_row\n",
    "                curr_node.col_idx = old_head_col\n",
    "            else:\n",
    "                curr_node.row_idx = curr_node.parent.row_idx\n",
    "                curr_node.col_idx = curr_node.parent.col_idx\n",
    "            # next, check if it collides with the head node\n",
    "            if head_body_collision_check(HeadNode, curr_node) == 1:\n",
    "                is_game_over = 1\n",
    "                break\n",
    "                \n",
    "        curr_node = curr_node.parent\n",
    "        \n",
    "    return is_game_over, is_food_eaten, ret_new_head"
   ]
  },
  {
   "cell_type": "markdown",
   "metadata": {},
   "source": [
    "This final function is the most important one here. On a high level, it takes in the current conditions of the snake together with the map information, and then updates the snake nodes for the next time step. Our discrete CA system evloves at each time step, and this function does this essential job.\n",
    "\n",
    "Here's what the function does in more details. At the beginning, it updates the snake head node's coordinate fields based on its current moving direction field value. Right after this, the helper function is called to check if the new head location goes beyond the map. One thing to note here is that, for hitting-the-boundary check, it's sufficient to check only for the head node at each update time. Obviously, it's impossible for any body node to hit the boundary without the head hitting it first.\n",
    "\n",
    "Next, the function checks whether the head node hits the food block in the map. If so, a new SnakeNode object is created and set as the new head node of the snake. Then the old head node is set back to a body node accordingly. In this case, the original snake body positions will not be moved for the next game iteration. Instead, the new head node emerges at the food block position. This creation of new head and subsequent adjustment require some careful manipulation of the snake linked list.\n",
    "\n",
    "Finally, it's fairly easy to update the position of each body node. Starting at the node immediately after the head and looping through until the tail, for each of them, the new coodinates are set to be the old coordinates of its parent node (before the update). Visually, this process moves each snake body block to its upstream neighbor's place. The function returns some useful information in the end."
   ]
  },
  {
   "cell_type": "markdown",
   "metadata": {},
   "source": [
    "Now, we finished creating the snake node class and some relevant functions. Next, let's shift focus to another class called 'GameConfig'.\n",
    "\n",
    "The purpose of this class is to hold information of the game environment setup and the game state/configuration so that they can be easily accessed by other functions. Below are the class definitions and class functions. The detailed explanation is embedded in the comments inside the code block."
   ]
  },
  {
   "cell_type": "code",
   "execution_count": null,
   "metadata": {},
   "outputs": [],
   "source": [
    "# Class 2: Game Environment & Configuration\n",
    "\n",
    "# For this GameConfig class, it has the following fields: a 2D integer array \n",
    "# that represents the game map, the current coordinates of food block, \n",
    "# and the dimension of the map. The entries of the 2D array can \n",
    "# only have values 0, 1, or 2. 0 means an empty cell, 1 means a snake body occupied cell, \n",
    "# and 2 means a food block.\n",
    "class GameConfig:\n",
    "    def __init__(self,map_num_row, map_num_col, init_food_row, init_food_col):\n",
    "        self.map_array = [[0 for x in range(map_num_col)] for y in range(map_num_row)]\n",
    "        self.food_row = init_food_row\n",
    "        self.food_col = init_food_col\n",
    "        self.num_row = map_num_row\n",
    "        self.num_col = map_num_col\n",
    "        \n",
    "# The next funcion initializes the 2D game map array. It takes in the initial snake \n",
    "# node coordinates (stored as tuple pairs in the list 'curr_snake_coords') and the \n",
    "# food location. Then the corresponding cells in the 2D array are set to the correct values.\n",
    "    def initalize_map(self, curr_snake_coords):\n",
    "        # set initial food block in array to value 2 \n",
    "        self.map_array[self.food_row][self.food_col] = 2\n",
    "        # set snake block blocks to value 1\n",
    "        for i in range(len(curr_snake_coords)):\n",
    "            curr_snake_row = curr_snake_coords[i][0]\n",
    "            curr_snake_col = curr_snake_coords[i][1]\n",
    "            self.map_array[curr_snake_row][curr_snake_col] = 1\n",
    "            \n",
    "# The next two functions intend to update the snake head and tail locations \n",
    "# in the 2D game map array stored in a GameConfig object. This differs from \n",
    "# the SnakeNode update function earlier in the sense that here we need to update the \n",
    "# values in the 2D array, while the other one takes care of all the SnakeNode objects.\n",
    "# In this case, the process is straightforward: just change the old head/tail cell value \n",
    "# back to 0 and then set the new locations to 1. This completes the map update for \n",
    "# visualization purpose. \n",
    "    def update_snake_tail_in_map(self, is_food_eaten, prev_tail_row, prev_tail_col):\n",
    "        if is_food_eaten == 1:\n",
    "            self.map_array[prev_tail_row][prev_tail_col] = 1\n",
    "        else:\n",
    "            self.map_array[prev_tail_row][prev_tail_col] = 0\n",
    "    \n",
    "    def update_snake_head_in_map(self, HeadNode):\n",
    "        head_row_idx = HeadNode.row_idx\n",
    "        head_col_idx = HeadNode.col_idx\n",
    "        self.map_array[head_row_idx][head_col_idx] = 1\n",
    "\n",
    "# The next function aims to update the food location in the 2D game map. It's called whenever the\n",
    "# current food is eaten by the snake and thus a new food block needs to appear. We used the\n",
    "# 'randint' functions to randomly select a spot in the 2D map array as the new food location. However,\n",
    "# there is one more step. We need to check if the new food location is valid or not. If it coincides\n",
    "# with any part of snake, then the function choose another random spot until a valid one is found.\n",
    "# Also, the 2D game map array is updated with this new food cell as well.\n",
    "    def update_food_in_map(self, curr_snake_coords, map_num_row, map_num_col):\n",
    "        # first, the old food block now becomes part of snake\n",
    "        old_food_row = self.food_row\n",
    "        old_food_col = self.food_col\n",
    "        self.map_array[old_food_row][old_food_col] = 1\n",
    "        # then, randomly select a new food block\n",
    "        is_valid = 0\n",
    "        while is_valid == 0:\n",
    "            new_food_row = random.randint(0,map_num_row-1)\n",
    "            new_food_col = random.randint(0,map_num_col-1)\n",
    "            is_valid = is_new_food_pos_valid(new_food_row, new_food_col, curr_snake_coords)\n",
    "        # finally, update the proper fields of the gameConfig object\n",
    "        self.food_row = new_food_row\n",
    "        self.food_col = new_food_col\n",
    "        self.map_array[new_food_row][new_food_col] = 2\n",
    "\n",
    "# The next function does the job of creating the game animation. We designed two game display schemes:\n",
    "# 1. Directly display the 2D game map array with integer values 0,1,or 2\n",
    "# 2. Convert the original integer 2D array to string type, and show the food as $, the snake head\n",
    "# as #, and the snake body as *\n",
    "# At each iteration, this function clears the previous print output and then print the new array. This\n",
    "# way, the array display becomes dynamic.\n",
    "    def print_map_array(self,HeadNode,curr_snake_coords):\n",
    "        clear_output(wait=True)\n",
    "        # We have two game map visualization schemes:\n",
    "        # a:  0 - empty cell  ,  1 - snake(head+body), 2-food\n",
    "        # b: ' '- empty cell  , '#'- snake head , '*' - snake body , '$' - food\n",
    "        \n",
    "        # Scheme a:\n",
    "        #print np.matrix(self.map_array)\n",
    "        \n",
    "        # Scheme b:\n",
    "        display_array = [[\" \" for x in range(self.num_col)] for y in range(self.num_row)]\n",
    "        display_array[HeadNode.row_idx][HeadNode.col_idx] = \"#\"\n",
    "        for i in range(1,len(curr_snake_coords)):\n",
    "            display_array[curr_snake_coords[i][0]][curr_snake_coords[i][1]] = \"*\"\n",
    "        display_array[self.food_row][self.food_col] = \"$\"\n",
    "        print np.matrix(display_array)\n",
    "        \n",
    "# This final function is not part of the GameConfig class, but just a helper function for the earlier\n",
    "# class function 'update_food_in_map'. This helper function takes in the potential new food's coordinates\n",
    "# with the current snake blocks' locations, and determine/return whether the new food location is\n",
    "# valid.\n",
    "\n",
    "# helper function for game configuration handling\n",
    "def is_new_food_pos_valid(new_food_row, new_food_col, curr_snake_coords):\n",
    "    is_valid = 1\n",
    "    for i in range(len(curr_snake_coords)):\n",
    "        if new_food_row == curr_snake_coords[i][0] and new_food_col == curr_snake_coords[i][1]:\n",
    "            is_valid = 0\n",
    "            break\n",
    "    return is_valid\n"
   ]
  },
  {
   "cell_type": "markdown",
   "metadata": {},
   "source": [
    "So far, we have gone through the two classes that will be used by the main function later, together with their special class functions. Next, we explore the last big part of the program -- smart computer player algorithm, in the form of a function. But first, let's quickly go over two helper functions:"
   ]
  },
  {
   "cell_type": "code",
   "execution_count": null,
   "metadata": {},
   "outputs": [],
   "source": [
    "# Helper Function for the computer player\n",
    "def is_valid_move(move_dir, head, max_row_idx, max_col_idx,curr_snake_coords):\n",
    "    is_valid = 1\n",
    "    # Let the 'curr_snake_coords' array (temporarily) contain only the snake body blocks at the next time step\n",
    "    deleted_snake_coord_entry = curr_snake_coords[-1]\n",
    "    del curr_snake_coords[-1]\n",
    "    \n",
    "    # store original info of the head\n",
    "    original_head_row_idx = head.row_idx\n",
    "    original_head_col_idx = head.col_idx\n",
    "    \n",
    "    new_head_row = head.row_idx\n",
    "    new_head_col = head.col_idx\n",
    "    if move_dir == 1:\n",
    "        new_head_row = new_head_row - 1\n",
    "    elif move_dir == 2:\n",
    "        new_head_row = new_head_row + 1\n",
    "    elif move_dir == 3:\n",
    "        new_head_col = new_head_col - 1\n",
    "    else:\n",
    "        new_head_col = new_head_col + 1\n",
    "    \n",
    "    # temporarily update HeadNode's position\n",
    "    head.row_idx = new_head_row\n",
    "    head.col_idx = new_head_col\n",
    "    \n",
    "    # check head-boundary collision\n",
    "    if boundary_hit_check(head,max_row_idx,max_col_idx) == 1:\n",
    "        is_valid = 0\n",
    "        head.row_idx = original_head_row_idx\n",
    "        head.col_idx = original_head_col_idx\n",
    "        curr_snake_coords.insert(len(curr_snake_coords),deleted_snake_coord_entry)\n",
    "        return is_valid\n",
    "    \n",
    "    # check head-body collision\n",
    "    if head_body_collision_check_for_planner(head,curr_snake_coords) == 1:\n",
    "        is_valid = 0\n",
    "    # restore the original info and return    \n",
    "    curr_snake_coords.insert(len(curr_snake_coords),deleted_snake_coord_entry)\n",
    "    head.row_idx = original_head_row_idx\n",
    "    head.col_idx = original_head_col_idx\n",
    "    return is_valid"
   ]
  },
  {
   "cell_type": "markdown",
   "metadata": {},
   "source": [
    "This helper function above helps decide if a particular movement direction of snake head for the next game iterationis valid or not. A direction is valid if doing so won't result in either boundary collision or head-body collision. The function does the job by temporarily updating the current snake block coordinates list based on the direction-to-test. Then it runs some helper functions for collision check. Finally, it restores the original current snake block coordinates list and returns the test result."
   ]
  },
  {
   "cell_type": "code",
   "execution_count": null,
   "metadata": {},
   "outputs": [],
   "source": [
    "# Helper Function for the computer player\n",
    "def head_body_collision_check_for_planner(head,body_coords_array):\n",
    "    is_collision = 0\n",
    "    for i in range(len(body_coords_array)):\n",
    "        if head.row_idx == body_coords_array[i][0] and head.col_idx == body_coords_array[i][1]:\n",
    "            is_collision = 1\n",
    "            break\n",
    "    return is_collision"
   ]
  },
  {
   "cell_type": "markdown",
   "metadata": {},
   "source": [
    "This helper function above checks for any head-body collision. It's specially designed for the computer planner since the input arguments are slight different than those of the similar function earlier. The motivation here is that this function can check through all the body nodes on a single function call, while the earlier version only checks for collision with a specific body node. The two versions are the more useful one in their own conditions."
   ]
  },
  {
   "cell_type": "markdown",
   "metadata": {},
   "source": [
    "Now we are ready to take on the important function below -- the smart computer player algorithm. In a nutshell, its task is to analyze the current game situation, and then 'smartly' decide which direction should the snake head go next. Remember, the goal of the snake is to eat as much food as possible while staying alive. Let's dive into the function itself:"
   ]
  },
  {
   "cell_type": "code",
   "execution_count": null,
   "metadata": {},
   "outputs": [],
   "source": [
    "# Helper Function: Computer Player - Snake Next Move Direction Planner\n",
    "def computer_player(head,max_row_idx, max_col_idx, food_row, food_col,curr_snake_coords):\n",
    "    next_snake_move_dir = 0\n",
    "    target_diff_row = food_row - head.row_idx\n",
    "    target_diff_col = food_col - head.col_idx\n",
    "    # try to reduce the row difference first,\n",
    "    # and then reduce the column difference\n",
    "    if target_diff_row > 0:\n",
    "        next_snake_move_dir = 2\n",
    "        if is_valid_move(next_snake_move_dir,head,max_row_idx,max_col_idx,curr_snake_coords) == 1:\n",
    "            return next_snake_move_dir\n",
    "        # if can't reduce row diff, try to reduce col diff\n",
    "        # if can't reduce col diff either, just pick a valid direction\n",
    "        else:\n",
    "            if target_diff_col > 0:\n",
    "                next_snake_move_dir = 4\n",
    "                if is_valid_move(next_snake_move_dir,head,max_row_idx,max_col_idx,curr_snake_coords) == 1:\n",
    "                    return next_snake_move_dir\n",
    "                next_snake_move_dir = 1\n",
    "                if is_valid_move(next_snake_move_dir,head,max_row_idx,max_col_idx,curr_snake_coords) == 1:\n",
    "                    return next_snake_move_dir\n",
    "                next_snake_move_dir = 3\n",
    "                if is_valid_move(next_snake_move_dir,head,max_row_idx,max_col_idx,curr_snake_coords) == 1:\n",
    "                    return next_snake_move_dir\n",
    "            elif target_diff_col < 0:\n",
    "                next_snake_move_dir = 3\n",
    "                if is_valid_move(next_snake_move_dir,head,max_row_idx,max_col_idx,curr_snake_coords) == 1:\n",
    "                    return next_snake_move_dir\n",
    "                next_snake_move_dir = 1\n",
    "                if is_valid_move(next_snake_move_dir,head,max_row_idx,max_col_idx,curr_snake_coords) == 1:\n",
    "                    return next_snake_move_dir\n",
    "                next_snake_move_dir = 4\n",
    "                if is_valid_move(next_snake_move_dir,head,max_row_idx,max_col_idx,curr_snake_coords) == 1:\n",
    "                    return next_snake_move_dir\n",
    "            else:\n",
    "                next_snake_move_dir = 1\n",
    "                if is_valid_move(next_snake_move_dir,head,max_row_idx,max_col_idx,curr_snake_coords) == 1:\n",
    "                    return next_snake_move_dir\n",
    "                next_snake_move_dir = 3\n",
    "                if is_valid_move(next_snake_move_dir,head,max_row_idx,max_col_idx,curr_snake_coords) == 1:\n",
    "                    return next_snake_move_dir\n",
    "                next_snake_move_dir = 4\n",
    "                if is_valid_move(next_snake_move_dir,head,max_row_idx,max_col_idx,curr_snake_coords) == 1:\n",
    "                    return next_snake_move_dir\n",
    "    elif target_diff_row < 0:\n",
    "        next_snake_move_dir = 1\n",
    "        if is_valid_move(next_snake_move_dir,head,max_row_idx,max_col_idx,curr_snake_coords) == 1:\n",
    "            return next_snake_move_dir\n",
    "        # if can't reduce row diff, try to reduce col diff\n",
    "        # if can't reduce col diff either, just pick a valid direction\n",
    "        else:\n",
    "            if target_diff_col > 0:\n",
    "                next_snake_move_dir = 4\n",
    "                if is_valid_move(next_snake_move_dir,head,max_row_idx,max_col_idx,curr_snake_coords) == 1:\n",
    "                    return next_snake_move_dir\n",
    "                next_snake_move_dir = 2\n",
    "                if is_valid_move(next_snake_move_dir,head,max_row_idx,max_col_idx,curr_snake_coords) == 1:\n",
    "                    return next_snake_move_dir\n",
    "                next_snake_move_dir = 3\n",
    "                if is_valid_move(next_snake_move_dir,head,max_row_idx,max_col_idx,curr_snake_coords) == 1:\n",
    "                    return next_snake_move_dir\n",
    "            elif target_diff_col < 0:\n",
    "                next_snake_move_dir = 3\n",
    "                if is_valid_move(next_snake_move_dir,head,max_row_idx,max_col_idx,curr_snake_coords) == 1:\n",
    "                    return next_snake_move_dir\n",
    "                next_snake_move_dir = 2\n",
    "                if is_valid_move(next_snake_move_dir,head,max_row_idx,max_col_idx,curr_snake_coords) == 1:\n",
    "                    return next_snake_move_dir\n",
    "                next_snake_move_dir = 4\n",
    "                if is_valid_move(next_snake_move_dir,head,max_row_idx,max_col_idx,curr_snake_coords) == 1:\n",
    "                    return next_snake_move_dir\n",
    "            else:\n",
    "                next_snake_move_dir = 2\n",
    "                if is_valid_move(next_snake_move_dir,head,max_row_idx,max_col_idx,curr_snake_coords) == 1:\n",
    "                    return next_snake_move_dir\n",
    "                next_snake_move_dir = 3\n",
    "                if is_valid_move(next_snake_move_dir,head,max_row_idx,max_col_idx,curr_snake_coords) == 1:\n",
    "                    return next_snake_move_dir\n",
    "                next_snake_move_dir = 4\n",
    "                if is_valid_move(next_snake_move_dir,head,max_row_idx,max_col_idx,curr_snake_coords) == 1:\n",
    "                    return next_snake_move_dir\n",
    "    else:\n",
    "        # if can reduce col diff, then do it\n",
    "        # otherwise, try to go the opposite direction\n",
    "        # since row diff = 0 now and we try not to change row\n",
    "        if target_diff_col > 0:\n",
    "            next_snake_move_dir = 4\n",
    "            if is_valid_move(next_snake_move_dir,head,max_row_idx,max_col_idx,curr_snake_coords) == 1:\n",
    "                return next_snake_move_dir\n",
    "            next_snake_move_dir = 3\n",
    "            if is_valid_move(next_snake_move_dir,head,max_row_idx,max_col_idx,curr_snake_coords) == 1:\n",
    "                return next_snake_move_dir\n",
    "        else:\n",
    "            next_snake_move_dir = 3\n",
    "            if is_valid_move(next_snake_move_dir,head,max_row_idx,max_col_idx,curr_snake_coords) == 1:\n",
    "                return next_snake_move_dir\n",
    "            next_snake_move_dir = 4\n",
    "            if is_valid_move(next_snake_move_dir,head,max_row_idx,max_col_idx,curr_snake_coords) == 1:\n",
    "                return next_snake_move_dir\n",
    "        # if can't change column in any way, then pick a valid change in row\n",
    "        next_snake_move_dir = 1\n",
    "        if is_valid_move(next_snake_move_dir,head,max_row_idx,max_col_idx,curr_snake_coords) == 1:\n",
    "            return next_snake_move_dir\n",
    "        next_snake_move_dir = 2\n",
    "        if is_valid_move(next_snake_move_dir,head,max_row_idx,max_col_idx,curr_snake_coords) == 1:\n",
    "            return next_snake_move_dir\n",
    "    return next_snake_move_dir"
   ]
  },
  {
   "cell_type": "markdown",
   "metadata": {},
   "source": [
    "The algorithm itself is not complicated. To concisely put it into steps:\n",
    "1. obtain the food's relative position with respect to the head node\n",
    "2. try to move in a direction that would bring the head closer to food (if two such directions are present, then pick one first)\n",
    "3. call helper functions to check if this direction is a valid move\n",
    "4. if valid, then immediately return this direction\n",
    "5. if invalid, and at the same time if there's a second direction choice exists in step 2, then test its validity again\n",
    "6. if valid, return it\n",
    "7. if invalid, then we are left with two other directions that would make snake head further away from food. Therefore, check them in an arbitrary order for validity.\n",
    "8. if a valid direction is found, return it\n",
    "9. if both remaining directions are invalid, then return the next direction value as 0 to indicate that no valid movement can be made next. This means the snake will die/ game over at the next time step."
   ]
  },
  {
   "cell_type": "markdown",
   "metadata": {},
   "source": [
    "Finally, we arrive at the program's main function part. Here, we will see how all the earlier pieces are put together to create this 2D snake game with smart computer player:"
   ]
  },
  {
   "cell_type": "markdown",
   "metadata": {},
   "source": [
    "First, let's define some variables. The ones below are user specified information for the game setup: the dimension of the map and the initial food block location. Right now they are set to be a 15-by-15 2D game map with the initial food block at (7,7). You are welcome to change it to anything you want!"
   ]
  },
  {
   "cell_type": "code",
   "execution_count": null,
   "metadata": {},
   "outputs": [],
   "source": [
    "# Game Environment Setup\n",
    "map_num_row = 15\n",
    "map_num_col = 15\n",
    "init_food_row = 7\n",
    "init_food_col = 7"
   ]
  },
  {
   "cell_type": "markdown",
   "metadata": {},
   "source": [
    "The variables below are for general purpose. They assist the main loop later. They keep track of whether the game is over, whether the food is eaten, and the previous-iteration tail node location at each game iteration."
   ]
  },
  {
   "cell_type": "code",
   "execution_count": null,
   "metadata": {},
   "outputs": [],
   "source": [
    "# General Purpose Variables\n",
    "is_game_over = 0\n",
    "is_food_eaten = 0\n",
    "prev_tail_row = 0\n",
    "prev_tail_col = 0"
   ]
  },
  {
   "cell_type": "markdown",
   "metadata": {},
   "source": [
    "Next, we created an object of class GameConfig. The user input is used to initialize the game environment setup. This object will be responsible for holding the latest game configuration."
   ]
  },
  {
   "cell_type": "code",
   "execution_count": null,
   "metadata": {},
   "outputs": [],
   "source": [
    "# create a game configuration object\n",
    "game_config = GameConfig(map_num_row,map_num_col,init_food_row,init_food_col)"
   ]
  },
  {
   "cell_type": "markdown",
   "metadata": {},
   "source": [
    "Moreover, we created three SnakeNode objects to initialize a length-3 snake located at some pre-determined location. We linked them properly so that now a linked list is created for the snake in the game. Also, the list 'curr_snake_coords' is created with the three initial snake block's coordinate pairs inside. This list is impotant since it will be used by many functions  later."
   ]
  },
  {
   "cell_type": "code",
   "execution_count": null,
   "metadata": {},
   "outputs": [],
   "source": [
    "# initially create a length-3 snake\n",
    "curr_snake_coords = []\n",
    "SnakeHead = SnakeNode(None, None, 1, 4, 5, 2)\n",
    "SnakeBody = SnakeNode(SnakeHead, None, 0, 4, 5, 1)\n",
    "SnakeHead.child = SnakeBody\n",
    "SnakeTail = SnakeNode(SnakeBody, None, 0, 4, 5, 0)\n",
    "curr_snake_coords.append([5,2])\n",
    "curr_snake_coords.append([5,1])\n",
    "curr_snake_coords.append([5,0])"
   ]
  },
  {
   "cell_type": "markdown",
   "metadata": {},
   "source": [
    "The next section initializes the 2D game map array and then displays it. This is the starting condition for the game."
   ]
  },
  {
   "cell_type": "code",
   "execution_count": null,
   "metadata": {},
   "outputs": [],
   "source": [
    "# initialize the map and print it\n",
    "game_config.initalize_map(curr_snake_coords)\n",
    "game_config.print_map_array(SnakeHead,curr_snake_coords)"
   ]
  },
  {
   "cell_type": "markdown",
   "metadata": {},
   "source": [
    "Finally, we come to the main game loop. It is a while loop that keeps iterating unless the game is over. Each iteration is a time step of the CA system (or snake game dynamics). To offer a concise summary, at each game iteration, the code:\n",
    "1. update the snake linked list according to the current head's movement direction\n",
    "2. check if the game is over. If so, break the loop.\n",
    "3. check if the food is eaten. If so, create a new food block.\n",
    "2. update the 2D game map array contained in the game configuration object\n",
    "3. display the current game map (replace the previous one)\n",
    "4. call the computer player algorithm function to obtain the next head movement direction, update it in the head node\n",
    "5. go on to the next iteration\n",
    "\n",
    "The comments throughtout the code will help you understand what's going on."
   ]
  },
  {
   "cell_type": "code",
   "execution_count": null,
   "metadata": {},
   "outputs": [],
   "source": [
    "# Main Game Loop\n",
    "while is_game_over != 1:\n",
    "    # record the previous tail position\n",
    "    prev_tail_row = SnakeTail.row_idx\n",
    "    prev_tail_col = SnakeTail.col_idx\n",
    "    \n",
    "    # Update the snake location for each SnakeNode\n",
    "    is_game_over, is_food_eaten, ret_new_head = snake_update_one_time_step(SnakeHead,SnakeTail,map_num_row-1,map_num_col-1,game_config.food_row,game_config.food_col)\n",
    "    if is_food_eaten == 1:\n",
    "        SnakeHead = ret_new_head\n",
    "    # Update the array 'curr_snake_coords'\n",
    "    if is_game_over == 1:\n",
    "        break\n",
    "        \n",
    "    if is_food_eaten == 1:\n",
    "        curr_snake_coords.insert(0,[game_config.food_row,game_config.food_col])\n",
    "    else:\n",
    "        del curr_snake_coords[-1]\n",
    "        new_head_row = SnakeHead.row_idx\n",
    "        new_head_col = SnakeHead.col_idx\n",
    "        curr_snake_coords.insert(0,[new_head_row,new_head_col])\n",
    "    \n",
    "    # Update snake head location in the map\n",
    "    game_config.update_snake_head_in_map(SnakeHead)\n",
    "    # if the food is eaten, update the food in the map\n",
    "    if is_food_eaten == 1:\n",
    "        game_config.update_food_in_map(curr_snake_coords,map_num_row,map_num_col)    \n",
    "    \n",
    "    # update snake tail location in the map\n",
    "    game_config.update_snake_tail_in_map(is_food_eaten,prev_tail_row,prev_tail_col)\n",
    "    \n",
    "    # finally, print the game map after this new iteration\n",
    "    game_config.print_map_array(SnakeHead,curr_snake_coords)\n",
    "    \n",
    "    # JEWEL ON THE CROWN: INTELLIGENT COMPUTER PLAYER\n",
    "    # It intelligently pick the next moving direction for HeadNode\n",
    "    next_move_dir = computer_player(SnakeHead,map_num_row-1,map_num_col-1,game_config.food_row,game_config.food_col,curr_snake_coords)\n",
    "    # Update the HeadNode's direction field with this new decision\n",
    "    if next_move_dir == 0:\n",
    "        print 'DEADLOCK: No valid movement possible'\n",
    "        break\n",
    "    else:\n",
    "        SnakeHead.curr_moving_dir = next_move_dir\n",
    "    \n",
    "    is_food_eaten = 0\n",
    "    # wait for 1 second between each game iteration\n",
    "    time.sleep(0.3)\n",
    "\n",
    "# if game is over, print\n",
    "print 'Game Over'"
   ]
  },
  {
   "cell_type": "markdown",
   "metadata": {},
   "source": [
    "The visual animation above is the display window. As you can see, the computer planner does a pretty good job of eating food and staying alive.\n",
    "\n",
    "This is the end of the program. We hope you understand how this game was created. Cellular Automata is a very powerful modeling tool, and we just showed a small fun application of it. Thank you so much for reading through the code!"
   ]
  }
 ],
 "metadata": {
  "kernelspec": {
   "display_name": "Python 2",
   "language": "python",
   "name": "python2"
  },
  "language_info": {
   "codemirror_mode": {
    "name": "ipython",
    "version": 2
   },
   "file_extension": ".py",
   "mimetype": "text/x-python",
   "name": "python",
   "nbconvert_exporter": "python",
   "pygments_lexer": "ipython2",
   "version": "2.7.14"
  }
 },
 "nbformat": 4,
 "nbformat_minor": 2
}
